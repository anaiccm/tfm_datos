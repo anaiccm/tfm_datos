{
  "nbformat": 4,
  "nbformat_minor": 0,
  "metadata": {
    "colab": {
      "name": "Proceso ETL de preparacion de datos.ipynb",
      "provenance": [],
      "collapsed_sections": []
    },
    "kernelspec": {
      "name": "python3",
      "display_name": "Python 3"
    },
    "language_info": {
      "name": "python"
    }
  },
  "cells": [
    {
      "cell_type": "markdown",
      "source": [
        "# **Proceso ETL de Preparación de Datos**\n",
        "\n",
        "Este proceso tiene por objetivo la importación de datos de los casos de COVID de 2020 y 2021 en España, así como su preparación para su posterior uso en Power BI."
      ],
      "metadata": {
        "id": "gcPjHlZ7A6FP"
      }
    },
    {
      "cell_type": "code",
      "execution_count": 84,
      "metadata": {
        "colab": {
          "base_uri": "https://localhost:8080/"
        },
        "id": "DnCjLQBwdBsj",
        "outputId": "896e979c-b3e4-4b0d-c7c1-96a246bf1e13"
      },
      "outputs": [
        {
          "output_type": "stream",
          "name": "stdout",
          "text": [
            "       provincia_iso sexo grupo_edad  ... num_hosp  num_uci  num_def\n",
            "0                  A    H        0-9  ...        0        0        0\n",
            "1                  A    H      10-19  ...        0        0        0\n",
            "2                  A    H      20-29  ...        0        0        0\n",
            "3                  A    H      30-39  ...        0        0        0\n",
            "4                  A    H      40-49  ...        0        0        0\n",
            "...              ...  ...        ...  ...      ...      ...      ...\n",
            "758425            ZA   NC      50-59  ...        0        0        0\n",
            "758426            ZA   NC      60-69  ...        0        0        0\n",
            "758427            ZA   NC      70-79  ...        0        0        0\n",
            "758428            ZA   NC        80+  ...        0        0        0\n",
            "758429            ZA   NC         NC  ...        0        0        0\n",
            "\n",
            "[758430 rows x 8 columns]\n",
            "     ccaa_iso       fecha  ...  num_casos_prueba_elisa  num_casos_prueba_desconocida\n",
            "0          AN  2020-01-18  ...                       0                             0\n",
            "1          AR  2020-01-18  ...                       0                             0\n",
            "2          AS  2020-01-18  ...                       0                             0\n",
            "3          CB  2020-01-18  ...                       0                             0\n",
            "4          CE  2020-01-18  ...                       0                             0\n",
            "...       ...         ...  ...                     ...                           ...\n",
            "8735       ML  2021-04-21  ...                       0                             0\n",
            "8736       NC  2021-04-21  ...                       0                             0\n",
            "8737       PV  2021-04-21  ...                       0                             0\n",
            "8738       RI  2021-04-21  ...                       0                             0\n",
            "8739       VC  2021-04-21  ...                       0                             0\n",
            "\n",
            "[8740 rows x 8 columns]\n"
          ]
        }
      ],
      "source": [
        "import pandas as pd\n",
        "\n",
        "# Importación de los datos covid\n",
        "url_casos_prov = \"https://raw.githubusercontent.com/raul-ssj/python/main/casos_hosp_uci_def_sexo_edad_provres.csv\"\n",
        "url_casos_ccaa = \"https://raw.githubusercontent.com/raul-ssj/python/main/casos_diag_ccaadecl.csv\"\n",
        "\n",
        "df_casos_prov = pd.read_csv(url_casos_prov)\n",
        "df_casos_ccaa = pd.read_csv(url_casos_ccaa)\n",
        "\n",
        "print(df_casos_prov)\n",
        "print(df_casos_ccaa)"
      ]
    },
    {
      "cell_type": "code",
      "source": [
        "#Filtrado de las filas que contienen datos válidos\n",
        "df_casos_ccaa_2 = df_casos_ccaa[df_casos_ccaa['ccaa_iso'] != \"NC\"]\n",
        "df_casos_prov_2 = df_casos_prov[(df_casos_prov['provincia_iso'] != \"NC\") & (df_casos_prov['sexo'] != \"NC\") & (df_casos_prov['grupo_edad'] != \"NC\")]\n",
        "\n",
        "print(df_casos_ccaa_2)\n",
        "print(df_casos_prov_2)"
      ],
      "metadata": {
        "colab": {
          "base_uri": "https://localhost:8080/"
        },
        "id": "1jN67YB7ews5",
        "outputId": "9512c679-e729-4454-bfe6-3221bbe0642e"
      },
      "execution_count": 85,
      "outputs": [
        {
          "output_type": "stream",
          "name": "stdout",
          "text": [
            "     ccaa_iso       fecha  ...  num_casos_prueba_elisa  num_casos_prueba_desconocida\n",
            "0          AN  2020-01-18  ...                       0                             0\n",
            "1          AR  2020-01-18  ...                       0                             0\n",
            "2          AS  2020-01-18  ...                       0                             0\n",
            "3          CB  2020-01-18  ...                       0                             0\n",
            "4          CE  2020-01-18  ...                       0                             0\n",
            "...       ...         ...  ...                     ...                           ...\n",
            "8734       MD  2021-04-21  ...                       0                             0\n",
            "8735       ML  2021-04-21  ...                       0                             0\n",
            "8737       PV  2021-04-21  ...                       0                             0\n",
            "8738       RI  2021-04-21  ...                       0                             0\n",
            "8739       VC  2021-04-21  ...                       0                             0\n",
            "\n",
            "[8280 rows x 8 columns]\n",
            "       provincia_iso sexo grupo_edad  ... num_hosp  num_uci  num_def\n",
            "0                  A    H        0-9  ...        0        0        0\n",
            "1                  A    H      10-19  ...        0        0        0\n",
            "2                  A    H      20-29  ...        0        0        0\n",
            "3                  A    H      30-39  ...        0        0        0\n",
            "4                  A    H      40-49  ...        0        0        0\n",
            "...              ...  ...        ...  ...      ...      ...      ...\n",
            "758414            ZA    M      40-49  ...        0        0        0\n",
            "758415            ZA    M      50-59  ...        0        0        0\n",
            "758416            ZA    M      60-69  ...        0        0        0\n",
            "758417            ZA    M      70-79  ...        0        0        0\n",
            "758418            ZA    M        80+  ...        0        0        0\n",
            "\n",
            "[446472 rows x 8 columns]\n"
          ]
        }
      ]
    },
    {
      "cell_type": "code",
      "source": [
        "# Exportación de datos\n",
        "path_covid_ccaa = \"datos_df_ccaa.csv\"\n",
        "path_covid_prov = \"datos_df_provincias.csv\"\n",
        "\n",
        "df_casos_ccaa_2.to_csv(path_covid_ccaa, encoding='utf-8', index=False)\n",
        "df_casos_prov_2.to_csv(path_covid_prov, encoding='utf-8', index=False)"
      ],
      "metadata": {
        "id": "bPNqljK3N2IM"
      },
      "execution_count": 86,
      "outputs": []
    },
    {
      "cell_type": "markdown",
      "source": [
        "**Representación de Datos estadísticos y representación para los datos covid (CCAA)**\n",
        "\n"
      ],
      "metadata": {
        "id": "w4I8qe2DQn9D"
      }
    },
    {
      "cell_type": "code",
      "source": [
        "import numpy as np\n",
        "import seaborn as sns\n",
        "import matplotlib.pyplot as plt\n",
        "\n",
        "# Ordenamiento por 'fecha' y agrupación por 'fecha'\n",
        "df_casos_ccaa_2 = df_casos_ccaa_2.sort_values([\"fecha\"], ascending = (True))\n",
        "\n",
        "year = df_casos_ccaa_2[\"fecha\"]\n",
        "num_casos = df_casos_ccaa_2[\"num_casos\"]\n",
        "plt.title('Numeros de casos COVID VS Fecha')\n",
        "plt.xlabel('Fecha')\n",
        "plt.ylabel('N. Casos COVID')\n",
        "plt.plot(year, num_casos)\n",
        "\n",
        "print(df_casos_ccaa_2.describe())"
      ],
      "metadata": {
        "colab": {
          "base_uri": "https://localhost:8080/",
          "height": 486
        },
        "id": "iF2jdVQXkMBI",
        "outputId": "b3b2d437-17e1-4b34-fac3-40f25f955ceb"
      },
      "execution_count": 87,
      "outputs": [
        {
          "output_type": "stream",
          "name": "stdout",
          "text": [
            "         num_casos  ...  num_casos_prueba_desconocida\n",
            "count  8280.000000  ...                   8280.000000\n",
            "mean    409.147705  ...                      3.819203\n",
            "std     886.323054  ...                     42.398649\n",
            "min       0.000000  ...                      0.000000\n",
            "25%      10.000000  ...                      0.000000\n",
            "50%      92.000000  ...                      0.000000\n",
            "75%     381.000000  ...                      0.000000\n",
            "max    9573.000000  ...                    982.000000\n",
            "\n",
            "[8 rows x 6 columns]\n"
          ]
        },
        {
          "output_type": "display_data",
          "data": {
            "image/png": "[encoded data removed]",
            "text/plain": [
              "<Figure size 432x288 with 1 Axes>"
            ]
          },
          "metadata": {
            "needs_background": "light"
          }
        }
      ]
    },
    {
      "cell_type": "markdown",
      "source": [
        "**Representación de Datos estadísticos y representación para los datos covid (PROVINCIAS)**"
      ],
      "metadata": {
        "id": "5hTGv3dQecS4"
      }
    },
    {
      "cell_type": "code",
      "source": [
        "# Ordenamiento por 'fecha' y agrupación por 'fecha'\n",
        "df_casos_prov_2 = df_casos_prov_2.sort_values([\"fecha\"], ascending = (True))\n",
        "\n",
        "year = df_casos_prov_2[\"fecha\"]\n",
        "num_casos = df_casos_prov_2[\"num_casos\"]\n",
        "plt.title('Numeros de casos COVID VS Fecha')\n",
        "plt.xlabel('Fecha')\n",
        "plt.ylabel('N. Casos COVID')\n",
        "plt.plot(year, num_casos)\n",
        "\n",
        "print(df_casos_prov_2.describe())"
      ],
      "metadata": {
        "colab": {
          "base_uri": "https://localhost:8080/",
          "height": 451
        },
        "id": "nf_YcVXMU4TH",
        "outputId": "ae5fedb6-37fd-418f-fba1-98a3e5a8fb0a"
      },
      "execution_count": 88,
      "outputs": [
        {
          "output_type": "stream",
          "name": "stdout",
          "text": [
            "           num_casos       num_hosp        num_uci        num_def\n",
            "count  446472.000000  446472.000000  446472.000000  446472.000000\n",
            "mean        7.623047       0.754751       0.069259       0.171758\n",
            "std        24.174405       3.962982       0.453204       1.292324\n",
            "min         0.000000       0.000000       0.000000       0.000000\n",
            "25%         0.000000       0.000000       0.000000       0.000000\n",
            "50%         1.000000       0.000000       0.000000       0.000000\n",
            "75%         6.000000       0.000000       0.000000       0.000000\n",
            "max       772.000000     269.000000      35.000000     100.000000\n"
          ]
        },
        {
          "output_type": "display_data",
          "data": {
            "image/png": "[encoded data removed]",
            "text/plain": [
              "<Figure size 432x288 with 1 Axes>"
            ]
          },
          "metadata": {
            "needs_background": "light"
          }
        }
      ]
    },
    {
      "cell_type": "markdown",
      "source": [
        "**Transformación de datos de CCAA**"
      ],
      "metadata": {
        "id": "MYLWh65YrROo"
      }
    },
    {
      "cell_type": "code",
      "source": [
        "# Datos de Comunidades Autónomas de España\n",
        "# Se incluye una nueva categoría \"C.A.\" para referierse a las ciudades autónomas de Ceua y Melilla\n",
        "url_ccaa = \"https://raw.githubusercontent.com/raul-ssj/python/main/ccaa.csv\"\n",
        "df_ccaa = pd.read_csv(url_ccaa)\n",
        "\n",
        "# Renombrar columnas\n",
        "df_ccaa = df_ccaa.rename(columns={'Código': 'iso_ccaa', 'Nombre de la subdivisión en la ISO​': 'nombre_ccaa'})\n",
        "\n",
        "# Eliminar el código del país para dejar únicamente el código de la CCAA\n",
        "df_ccaa[\"iso_ccaa\"] = df_ccaa[\"iso_ccaa\"].str.replace(\"ES-\", \"\")\n",
        "\n",
        "# Nueva entrada para las 'Ciudades Autónomas'\n",
        "ciudad_autonoma = {'iso_ccaa': 'C.A.', 'nombre_ccaa': 'Ciudad Autónoma'}\n",
        "df_ccaa = df_ccaa.append(ciudad_autonoma, ignore_index=True)\n",
        "\n",
        "# Ordenar datos por código ISO\n",
        "df_ccaa = df_ccaa.sort_values([\"iso_ccaa\"], ascending = (True))\n",
        "\n",
        "# Exportar datos a CSV\n",
        "df_ccaa.to_csv(\"codigos_ccaa.csv\", encoding='utf-8', index=False)\n",
        "\n",
        "# Imprimir por pantalla\n",
        "print(df_ccaa)"
      ],
      "metadata": {
        "colab": {
          "base_uri": "https://localhost:8080/"
        },
        "id": "xbG1gYEMrZQ7",
        "outputId": "a39231c8-1ae4-483d-d885-257b6621ef36"
      },
      "execution_count": 89,
      "outputs": [
        {
          "output_type": "stream",
          "name": "stdout",
          "text": [
            "   iso_ccaa                  nombre_ccaa\n",
            "0        AN                    Andalucía\n",
            "1        AR                       Aragón\n",
            "2        AS       Principado de Asturias\n",
            "17     C.A.              Ciudad Autónoma\n",
            "4        CB                    Cantabria\n",
            "6        CL              Castilla y León\n",
            "5        CM           Castilla-La Mancha\n",
            "3        CN                     Canarias\n",
            "7        CT                     Cataluña\n",
            "8        EX                  Extremadura\n",
            "9        GA                      Galicia\n",
            "10       IB               Islas Baleares\n",
            "13       MC             Región de Murcia\n",
            "12       MD          Comunidad de Madrid\n",
            "14       NC  Comunidad Floral de Navarra\n",
            "15       PV                   País Vasco\n",
            "11       RI                     La Rioja\n",
            "16       VC         Comunidad Valenciana\n"
          ]
        }
      ]
    },
    {
      "cell_type": "markdown",
      "source": [
        "**Transformación de datos de Provincias**"
      ],
      "metadata": {
        "id": "8HVZpXvhOc3o"
      }
    },
    {
      "cell_type": "code",
      "source": [
        "# Datos de Provincias por CCAA en España\n",
        "# También se incluyen las ciudades autónomas de Ceua y Melilla dentro de este DataFrame\n",
        "url_provincias = \"https://raw.githubusercontent.com/raul-ssj/python/main/provincias.csv\"\n",
        "df_provincias = pd.read_csv(url_provincias)\n",
        "\n",
        "# Renombrar columnas\n",
        "df_provincias = df_provincias.rename(columns={'Código': 'iso_provincia', 'Nombre de la subdivisión en la ISO​': 'nombre_provincia', 'Comunidad autónoma': 'iso_ccaa_fk'})\n",
        "\n",
        "#Incluir las ciudades autónomas\n",
        "ceuta = {'iso_provincia': 'ES-CE','nombre_provincia': 'Ceuta', 'iso_ccaa_fk': 'C.A.'}\n",
        "melilla = {'iso_provincia': 'ES-ML','nombre_provincia': 'Melilla', 'iso_ccaa_fk': 'C.A.'}\n",
        "df_provincias = df_provincias.append(ceuta, ignore_index=True)\n",
        "df_provincias = df_provincias.append(melilla, ignore_index=True)\n",
        "\n",
        "# Eliminar el código del país para dejar únicamente el código de la provincia\n",
        "df_provincias[\"iso_provincia\"] = df_provincias[\"iso_provincia\"].str.replace(\"ES-\", \"\") \n",
        "\n",
        "# Ordenar datos por código ISO\n",
        "df_provincias = df_provincias.sort_values([\"iso_provincia\"], ascending = (True))\n",
        "\n",
        "# Exportar datos a CSV\n",
        "df_provincias.to_csv(\"codigos_provincias.csv\", encoding='utf-8', index=False)\n",
        "\n",
        "# Imprimir por pantalla\n",
        "print(df_provincias.tail)"
      ],
      "metadata": {
        "colab": {
          "base_uri": "https://localhost:8080/"
        },
        "id": "XeDs1-2YE8AG",
        "outputId": "e168c1ac-e294-4578-fcb6-1a7443f3b0ad"
      },
      "execution_count": 90,
      "outputs": [
        {
          "output_type": "stream",
          "name": "stdout",
          "text": [
            "<bound method NDFrame.tail of    iso_provincia        nombre_provincia iso_ccaa_fk\n",
            "3              A               Alicante​          VC\n",
            "2             AB                Albacete          CM\n",
            "4             AL                 Almería          AN\n",
            "6             AV                   Ávila          CL\n",
            "9              B               Barcelona          CT\n",
            "7             BA                 Badajoz          EX\n",
            "10           BI​                 Vizcaya          PV\n",
            "11            BU                  Burgos          CL\n",
            "0              C              La Coruña)          GA\n",
            "13            CA                   Cádiz          AN\n",
            "12            CC                 Cáceres          EX\n",
            "50            CE                   Ceuta        C.A.\n",
            "17            CO                 Córdoba          AN\n",
            "16            CR             Ciudad Real          CM\n",
            "15            CS              Castellón​          VC\n",
            "18            CU                  Cuenca          CM\n",
            "27           GC​              Las Palmas          CN\n",
            "20            GI                  Gerona          CT\n",
            "21            GR                 Granada          AN\n",
            "22            GU             Guadalajara          CM\n",
            "23             H                  Huelva          AN\n",
            "24            HU                  Huesca          AR\n",
            "25             J                    Jaén          AN\n",
            "29             L                  Lleida          CT\n",
            "28            LE                    León          CL\n",
            "26           LO​                La Rioja          RI\n",
            "30            LU                    Lugo          GA\n",
            "31             M                  Madrid          MD\n",
            "32            MA                  Málaga          AN\n",
            "51            ML                 Melilla        C.A.\n",
            "33            MU                  Murcia          MC\n",
            "34            NA                Navarra​          NC\n",
            "35            OR                  Orense          GA\n",
            "5             O​                Asturias          AS\n",
            "36             P                Palencia          CL\n",
            "8            PM​                Baleares          IB\n",
            "37            PO              Pontevedra          GA\n",
            "38            SA               Salamanca          CL\n",
            "41            SE                 Sevilla          AN\n",
            "40            SG                 Segovia          CL\n",
            "42            SO                   Soria          CL\n",
            "19           SS​               Guipúzcoa          PV\n",
            "14            S​               Cantabria          CB\n",
            "43             T               Tarragona          CT\n",
            "44            TE                  Teruel          AR\n",
            "39            TF  Santa Cruz de Tenerife          CN\n",
            "45            TO                  Toledo          CM\n",
            "46             V                Valencia          VC\n",
            "47            VA              Valladolid          CL\n",
            "1            VI​                  Álava​          PV\n",
            "49             Z                Zaragoza          AR\n",
            "48            ZA                  Zamora          CL>\n"
          ]
        }
      ]
    },
    {
      "cell_type": "markdown",
      "source": [
        ""
      ],
      "metadata": {
        "id": "UotbqCZVA3jp"
      }
    }
  ]
}